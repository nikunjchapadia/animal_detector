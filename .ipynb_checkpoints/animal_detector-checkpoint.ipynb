{
 "cells": [
  {
   "cell_type": "markdown",
   "id": "d8fc10a3",
   "metadata": {},
   "source": [
    "# An Animal Detector "
   ]
  },
  {
   "cell_type": "code",
   "execution_count": 8,
   "id": "3c481a49",
   "metadata": {},
   "outputs": [],
   "source": [
    "# get the fastapp vision package \n",
    "from fastai.vision.all import *\n",
    "from fastai.vision.widgets import *"
   ]
  },
  {
   "cell_type": "code",
   "execution_count": 16,
   "id": "b78e364f",
   "metadata": {},
   "outputs": [],
   "source": [
    "path = Path()\n",
    "path\n",
    "learn_inf= load_learner(path/'export.pkl', cpu=True)"
   ]
  },
  {
   "cell_type": "code",
   "execution_count": 17,
   "id": "22f3ae28",
   "metadata": {},
   "outputs": [],
   "source": [
    "upload_btn = widgets.FileUpload()\n",
    "out_pl = widgets.Output()\n",
    "lbl_pred = widgets.Label()"
   ]
  },
  {
   "cell_type": "code",
   "execution_count": 19,
   "id": "1cd5b793",
   "metadata": {},
   "outputs": [],
   "source": [
    "def on_data_change(change):\n",
    "    lbl_pred.value = ''\n",
    "    img = PILImage.create(upload_btn.data[-1])\n",
    "    out_pl.clear_output()\n",
    "    with out_pl: display(img.to_thumb(128,128))\n",
    "    pred, pred_idx, probs = learn_inf.predict(img)\n",
    "    lbl_pred.value = f' Predicition: {pred}; Probability: {probs[pred_idx]:.04f}'"
   ]
  },
  {
   "cell_type": "code",
   "execution_count": 22,
   "id": "661912a5",
   "metadata": {},
   "outputs": [],
   "source": [
    "upload_btn.observe(on_data_change, names=['data'])"
   ]
  },
  {
   "cell_type": "code",
   "execution_count": 23,
   "id": "81b505a6",
   "metadata": {},
   "outputs": [
    {
     "data": {
      "application/vnd.jupyter.widget-view+json": {
       "model_id": "919b17af42944188b8dde1666bca5d00",
       "version_major": 2,
       "version_minor": 0
      },
      "text/plain": [
       "VBox(children=(Label(value='Select your image!'), FileUpload(value={}, description='Upload'), Output(), Label(…"
      ]
     },
     "metadata": {},
     "output_type": "display_data"
    },
    {
     "data": {
      "text/html": [],
      "text/plain": [
       "<IPython.core.display.HTML object>"
      ]
     },
     "metadata": {},
     "output_type": "display_data"
    }
   ],
   "source": [
    "display(VBox([widgets.Label('Select your image!'), upload_btn, out_pl, lbl_pred]))"
   ]
  },
  {
   "cell_type": "code",
   "execution_count": null,
   "id": "529eb1dc",
   "metadata": {},
   "outputs": [],
   "source": []
  }
 ],
 "metadata": {
  "kernelspec": {
   "display_name": "Python 3 (ipykernel)",
   "language": "python",
   "name": "python3"
  },
  "language_info": {
   "codemirror_mode": {
    "name": "ipython",
    "version": 3
   },
   "file_extension": ".py",
   "mimetype": "text/x-python",
   "name": "python",
   "nbconvert_exporter": "python",
   "pygments_lexer": "ipython3",
   "version": "3.9.10"
  }
 },
 "nbformat": 4,
 "nbformat_minor": 5
}
